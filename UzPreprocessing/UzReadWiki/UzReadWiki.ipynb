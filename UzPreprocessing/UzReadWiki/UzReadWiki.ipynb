{
 "cells": [
  {
   "cell_type": "markdown",
   "metadata": {
    "id": "EvKLls3Ol-vr"
   },
   "source": [
    "# Import"
   ]
  },
  {
   "cell_type": "code",
   "execution_count": 1,
   "metadata": {
    "colab": {
     "base_uri": "https://localhost:8080/"
    },
    "executionInfo": {
     "elapsed": 5203,
     "status": "ok",
     "timestamp": 1641572055118,
     "user": {
      "displayName": "Максим Селезнев",
      "photoUrl": "https://lh3.googleusercontent.com/a/default-user=s64",
      "userId": "01035662716647446064"
     },
     "user_tz": -180
    },
    "id": "CznNTk3VmOLT",
    "outputId": "bce71080-c496-49d9-eb3d-0f89fc4adde4"
   },
   "outputs": [],
   "source": [
    "import re\n",
    "import glob\n",
    "import nltk\n",
    "import numpy as np\n",
    "import pandas as pd\n",
    "from tqdm import tqdm\n",
    "from uuid import uuid4"
   ]
  },
  {
   "cell_type": "code",
   "execution_count": null,
   "metadata": {},
   "outputs": [],
   "source": [
    "nltk.download('punkt')"
   ]
  },
  {
   "cell_type": "markdown",
   "metadata": {
    "id": "EYYLljVTmbym"
   },
   "source": [
    "# Reading texts from Uzbek Wiki"
   ]
  },
  {
   "cell_type": "code",
   "execution_count": null,
   "metadata": {
    "executionInfo": {
     "elapsed": 260,
     "status": "ok",
     "timestamp": 1641572059126,
     "user": {
      "displayName": "Максим Селезнев",
      "photoUrl": "https://lh3.googleusercontent.com/a/default-user=s64",
      "userId": "01035662716647446064"
     },
     "user_tz": -180
    },
    "id": "FWlLuaPqmYj9"
   },
   "outputs": [],
   "source": [
    "def split_keep_sep(string: str, sep: str) -> list:\n",
    "    cleaned = []\n",
    "    string = re.split('(%s)' % re.escape(sep), string)\n",
    "    for _ in string:\n",
    "        if _ != '' and _ != sep:\n",
    "            cleaned.append(sep + _)\n",
    "    return cleaned\n",
    "\n",
    "def remove_html_tags(text: str) -> str:\n",
    "    clean = re.compile('<.*?>')\n",
    "    return re.sub(clean, '', text)\n",
    "\n",
    "def remove_special_chars(text: str, char_list: list) -> str:\n",
    "    for char in char_list:\n",
    "        text = text.replace(char, '')\n",
    "    return text.replace(u'\\xa0', u' ')\n",
    "\n",
    "def process_wiki_file(wiki_file: str) -> pd.DataFrame:\n",
    "    chars = ['\\n']\n",
    "    with open(wiki_file, encoding='utf-8') as f:\n",
    "        content = f.read()\n",
    "    articles = split_keep_sep(content, '<doc id=')\n",
    "    dataframe = pd.DataFrame(columns=['article_uuid', 'sentence'])\n",
    "    for article in articles:\n",
    "        uuid = uuid4()\n",
    "        article = remove_special_chars(remove_html_tags(article), chars)\n",
    "        sentences = nltk.sent_tokenize(article)\n",
    "        temp_dataframe = pd.DataFrame({'article_uuid': [uuid] * len(sentences),\n",
    "                                       'sentence': sentences})\n",
    "        dataframe = dataframe.append(temp_dataframe)\n",
    "    return dataframe"
   ]
  },
  {
   "cell_type": "code",
   "execution_count": null,
   "metadata": {},
   "outputs": [],
   "source": [
    "wiki_files = []\n",
    "for filename in glob.iglob(\"UzWiki/*/*\"):\n",
    "    wiki_files.append(filename)"
   ]
  },
  {
   "cell_type": "code",
   "execution_count": null,
   "metadata": {},
   "outputs": [],
   "source": [
    "dataframe = pd.DataFrame()\n",
    "for file_name in tqdm(wiki_files):\n",
    "    dataframe_file = process_wiki_file(file_name)\n",
    "    dataframe = pd.concat([dataframe, dataframe_file])\n",
    "dataframe['article_uuid'] = dataframe['article_uuid'].astype(str)"
   ]
  },
  {
   "cell_type": "code",
   "execution_count": null,
   "metadata": {},
   "outputs": [],
   "source": [
    "dataframe.to_csv(\"UzWikiTexts.csv\", index=False)"
   ]
  },
  {
   "cell_type": "markdown",
   "metadata": {},
   "source": [
    "# Check"
   ]
  },
  {
   "cell_type": "code",
   "execution_count": 2,
   "metadata": {},
   "outputs": [],
   "source": [
    "dataframe = pd.read_csv(\"UzWikiTexts.csv\")"
   ]
  },
  {
   "cell_type": "code",
   "execution_count": 4,
   "metadata": {},
   "outputs": [
    {
     "data": {
      "text/html": [
       "<div>\n",
       "<style scoped>\n",
       "    .dataframe tbody tr th:only-of-type {\n",
       "        vertical-align: middle;\n",
       "    }\n",
       "\n",
       "    .dataframe tbody tr th {\n",
       "        vertical-align: top;\n",
       "    }\n",
       "\n",
       "    .dataframe thead th {\n",
       "        text-align: right;\n",
       "    }\n",
       "</style>\n",
       "<table border=\"1\" class=\"dataframe\">\n",
       "  <thead>\n",
       "    <tr style=\"text-align: right;\">\n",
       "      <th></th>\n",
       "      <th>article_uuid</th>\n",
       "      <th>sentence</th>\n",
       "    </tr>\n",
       "  </thead>\n",
       "  <tbody>\n",
       "    <tr>\n",
       "      <th>0</th>\n",
       "      <td>2508e29b-6b60-42c5-bc8e-577f3a124cf1</td>\n",
       "      <td>ShoʻrvaShoʻrva — suyuq ovqat turi.</td>\n",
       "    </tr>\n",
       "    <tr>\n",
       "      <th>1</th>\n",
       "      <td>2508e29b-6b60-42c5-bc8e-577f3a124cf1</td>\n",
       "      <td>Tayyorlash usuliga koʻra, shoʻrvaning qovurma ...</td>\n",
       "    </tr>\n",
       "    <tr>\n",
       "      <th>2</th>\n",
       "      <td>2508e29b-6b60-42c5-bc8e-577f3a124cf1</td>\n",
       "      <td>Goʻsht boʻlaklarga boʻlinib, yogʻ bilan birga ...</td>\n",
       "    </tr>\n",
       "    <tr>\n",
       "      <th>3</th>\n",
       "      <td>2508e29b-6b60-42c5-bc8e-577f3a124cf1</td>\n",
       "      <td>Suv qaynab chiqquncha qozonga tuz, bir dona qi...</td>\n",
       "    </tr>\n",
       "    <tr>\n",
       "      <th>4</th>\n",
       "      <td>2508e29b-6b60-42c5-bc8e-577f3a124cf1</td>\n",
       "      <td>Shoʻrva qaynab chiqqach, olovi pasaytirilib, y...</td>\n",
       "    </tr>\n",
       "    <tr>\n",
       "      <th>...</th>\n",
       "      <td>...</td>\n",
       "      <td>...</td>\n",
       "    </tr>\n",
       "    <tr>\n",
       "      <th>1157634</th>\n",
       "      <td>665ef546-82b2-4ac8-ab4d-07667cf39271</td>\n",
       "      <td>Aholi zichligi – har kvadrat kilometrga 25,4 n...</td>\n",
       "    </tr>\n",
       "    <tr>\n",
       "      <th>1157635</th>\n",
       "      <td>665ef546-82b2-4ac8-ab4d-07667cf39271</td>\n",
       "      <td>Shundan 3,70 km2 quruqlik.</td>\n",
       "    </tr>\n",
       "    <tr>\n",
       "      <th>1157636</th>\n",
       "      <td>665ef546-82b2-4ac8-ab4d-07667cf39271</td>\n",
       "      <td>Dengiz sathidan oʻrtacha 290 m balandlikda joy...</td>\n",
       "    </tr>\n",
       "    <tr>\n",
       "      <th>1157637</th>\n",
       "      <td>de26d018-dbc2-4bc4-a55b-2567f60747bf</td>\n",
       "      <td>Amenia, North Dakota</td>\n",
       "    </tr>\n",
       "    <tr>\n",
       "      <th>1157638</th>\n",
       "      <td>24d7fe0b-b5c2-4522-b8a1-9b037c414e35</td>\n",
       "      <td>Amenia, Shimoliy Dakota</td>\n",
       "    </tr>\n",
       "  </tbody>\n",
       "</table>\n",
       "<p>1157639 rows × 2 columns</p>\n",
       "</div>"
      ],
      "text/plain": [
       "                                 article_uuid  \\\n",
       "0        2508e29b-6b60-42c5-bc8e-577f3a124cf1   \n",
       "1        2508e29b-6b60-42c5-bc8e-577f3a124cf1   \n",
       "2        2508e29b-6b60-42c5-bc8e-577f3a124cf1   \n",
       "3        2508e29b-6b60-42c5-bc8e-577f3a124cf1   \n",
       "4        2508e29b-6b60-42c5-bc8e-577f3a124cf1   \n",
       "...                                       ...   \n",
       "1157634  665ef546-82b2-4ac8-ab4d-07667cf39271   \n",
       "1157635  665ef546-82b2-4ac8-ab4d-07667cf39271   \n",
       "1157636  665ef546-82b2-4ac8-ab4d-07667cf39271   \n",
       "1157637  de26d018-dbc2-4bc4-a55b-2567f60747bf   \n",
       "1157638  24d7fe0b-b5c2-4522-b8a1-9b037c414e35   \n",
       "\n",
       "                                                  sentence  \n",
       "0                       ShoʻrvaShoʻrva — suyuq ovqat turi.  \n",
       "1        Tayyorlash usuliga koʻra, shoʻrvaning qovurma ...  \n",
       "2        Goʻsht boʻlaklarga boʻlinib, yogʻ bilan birga ...  \n",
       "3        Suv qaynab chiqquncha qozonga tuz, bir dona qi...  \n",
       "4        Shoʻrva qaynab chiqqach, olovi pasaytirilib, y...  \n",
       "...                                                    ...  \n",
       "1157634  Aholi zichligi – har kvadrat kilometrga 25,4 n...  \n",
       "1157635                         Shundan 3,70 km2 quruqlik.  \n",
       "1157636  Dengiz sathidan oʻrtacha 290 m balandlikda joy...  \n",
       "1157637                               Amenia, North Dakota  \n",
       "1157638                            Amenia, Shimoliy Dakota  \n",
       "\n",
       "[1157639 rows x 2 columns]"
      ]
     },
     "execution_count": 4,
     "metadata": {},
     "output_type": "execute_result"
    }
   ],
   "source": [
    "dataframe"
   ]
  }
 ],
 "metadata": {
  "colab": {
   "authorship_tag": "ABX9TyPP2anUoDkp0WgymSGEnT5a",
   "collapsed_sections": [
    "EvKLls3Ol-vr",
    "EYYLljVTmbym"
   ],
   "mount_file_id": "16k9tBMciW7usx9adm1fkWPtKUFoG-jcy",
   "name": "ReadWiki.ipynb",
   "provenance": []
  },
  "kernelspec": {
   "display_name": "Python 3 (ipykernel)",
   "language": "python",
   "name": "python3"
  },
  "language_info": {
   "codemirror_mode": {
    "name": "ipython",
    "version": 3
   },
   "file_extension": ".py",
   "mimetype": "text/x-python",
   "name": "python",
   "nbconvert_exporter": "python",
   "pygments_lexer": "ipython3",
   "version": "3.9.7"
  }
 },
 "nbformat": 4,
 "nbformat_minor": 1
}
