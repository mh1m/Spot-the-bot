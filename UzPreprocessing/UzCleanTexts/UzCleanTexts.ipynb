{
 "cells": [
  {
   "cell_type": "markdown",
   "metadata": {
    "id": "EvKLls3Ol-vr"
   },
   "source": [
    "# Import"
   ]
  },
  {
   "cell_type": "code",
   "execution_count": 1,
   "metadata": {},
   "outputs": [],
   "source": [
    "# !pip install devon"
   ]
  },
  {
   "cell_type": "code",
   "execution_count": 2,
   "metadata": {
    "colab": {
     "base_uri": "https://localhost:8080/"
    },
    "executionInfo": {
     "elapsed": 5203,
     "status": "ok",
     "timestamp": 1641572055118,
     "user": {
      "displayName": "Максим Селезнев",
      "photoUrl": "https://lh3.googleusercontent.com/a/default-user=s64",
      "userId": "01035662716647446064"
     },
     "user_tz": -180
    },
    "id": "CznNTk3VmOLT",
    "outputId": "bce71080-c496-49d9-eb3d-0f89fc4adde4"
   },
   "outputs": [],
   "source": [
    "import re\n",
    "import json\n",
    "import nltk\n",
    "import numpy as np\n",
    "import pandas as pd\n",
    "from devon.devon import FSMStemmer"
   ]
  },
  {
   "cell_type": "code",
   "execution_count": 3,
   "metadata": {},
   "outputs": [],
   "source": [
    "STOPWORDS_ADD = [\"a\", \"aa\", \"aaa\", \"aaaa\", \"aaaaa\", \"aaaaaa\", \"aaba\"]"
   ]
  },
  {
   "cell_type": "markdown",
   "metadata": {},
   "source": [
    "# Group data by page (pg_index)"
   ]
  },
  {
   "cell_type": "code",
   "execution_count": 4,
   "metadata": {},
   "outputs": [],
   "source": [
    "def group_texts(dataframe: pd.DataFrame, text_column_name: str) -> pd.DataFrame:\n",
    "    df_page_ind = pd.DataFrame(dataframe['article_uuid'].unique(), columns=['article_uuid'])\n",
    "    df_page_ind = df_page_ind.reset_index().rename(columns={'index': 'pg_index'})\n",
    "    dataframe = dataframe.merge(df_page_ind, how='left', on='article_uuid')\n",
    "    dataframe = dataframe[[text_column_name, 'pg_index']]\n",
    "    dataframe = dataframe.groupby(by='pg_index').agg({text_column_name: ' '.join})\n",
    "    df_pg = dataframe.reset_index()\n",
    "    df_pg = df_pg.dropna()\n",
    "    return df_pg"
   ]
  },
  {
   "cell_type": "code",
   "execution_count": 5,
   "metadata": {},
   "outputs": [],
   "source": [
    "dataframe = pd.read_csv(\"UzWikiTexts.csv\")\n",
    "stop_words = json.load(open(\"UzStopWords.json\")) + STOPWORDS_ADD"
   ]
  },
  {
   "cell_type": "code",
   "execution_count": 6,
   "metadata": {},
   "outputs": [],
   "source": [
    "df_grouped_texts = group_texts(dataframe, 'sentence')"
   ]
  },
  {
   "cell_type": "code",
   "execution_count": 7,
   "metadata": {},
   "outputs": [],
   "source": [
    "def create_textshape_data(dataframe: pd.DataFrame, text_shape: list, column: str) -> pd.DataFrame:\n",
    "    data_text_shape = pd.DataFrame(columns=['text_shape', 'pages_amount'])\n",
    "    for shape in text_shape:\n",
    "        lambda_ = lambda text: len(text.split()) > shape\n",
    "        pages_amount = dataframe[dataframe[column].apply(lambda_)].shape[0]\n",
    "        data_text_shape = data_text_shape.append({'text_shape': shape,\n",
    "                                                  'pages_amount': pages_amount}, ignore_index=True)\n",
    "    return data_text_shape"
   ]
  },
  {
   "cell_type": "code",
   "execution_count": 8,
   "metadata": {},
   "outputs": [
    {
     "data": {
      "text/html": [
       "<div>\n",
       "<style scoped>\n",
       "    .dataframe tbody tr th:only-of-type {\n",
       "        vertical-align: middle;\n",
       "    }\n",
       "\n",
       "    .dataframe tbody tr th {\n",
       "        vertical-align: top;\n",
       "    }\n",
       "\n",
       "    .dataframe thead th {\n",
       "        text-align: right;\n",
       "    }\n",
       "</style>\n",
       "<table border=\"1\" class=\"dataframe\">\n",
       "  <thead>\n",
       "    <tr style=\"text-align: right;\">\n",
       "      <th></th>\n",
       "      <th>text_shape</th>\n",
       "      <th>pages_amount</th>\n",
       "    </tr>\n",
       "  </thead>\n",
       "  <tbody>\n",
       "    <tr>\n",
       "      <th>0</th>\n",
       "      <td>100</td>\n",
       "      <td>21019</td>\n",
       "    </tr>\n",
       "    <tr>\n",
       "      <th>1</th>\n",
       "      <td>150</td>\n",
       "      <td>12640</td>\n",
       "    </tr>\n",
       "    <tr>\n",
       "      <th>2</th>\n",
       "      <td>300</td>\n",
       "      <td>4788</td>\n",
       "    </tr>\n",
       "    <tr>\n",
       "      <th>3</th>\n",
       "      <td>500</td>\n",
       "      <td>2193</td>\n",
       "    </tr>\n",
       "    <tr>\n",
       "      <th>4</th>\n",
       "      <td>1000</td>\n",
       "      <td>780</td>\n",
       "    </tr>\n",
       "  </tbody>\n",
       "</table>\n",
       "</div>"
      ],
      "text/plain": [
       "  text_shape pages_amount\n",
       "0        100        21019\n",
       "1        150        12640\n",
       "2        300         4788\n",
       "3        500         2193\n",
       "4       1000          780"
      ]
     },
     "execution_count": 8,
     "metadata": {},
     "output_type": "execute_result"
    }
   ],
   "source": [
    "create_textshape_data(df_grouped_texts, [100, 150, 300, 500, 1000], 'sentence')"
   ]
  },
  {
   "cell_type": "markdown",
   "metadata": {},
   "source": [
    "Since we need to get a corpus of 10,000 documents, it is permissible that each document contains at least 150 words."
   ]
  },
  {
   "cell_type": "code",
   "execution_count": 9,
   "metadata": {},
   "outputs": [],
   "source": [
    "lambda_ = lambda text: len(text.split()) > 150\n",
    "df_grouped_texts = df_grouped_texts[df_grouped_texts['sentence'].apply(lambda_)].reset_index(drop=True)"
   ]
  },
  {
   "cell_type": "code",
   "execution_count": 10,
   "metadata": {},
   "outputs": [
    {
     "data": {
      "text/html": [
       "<div>\n",
       "<style scoped>\n",
       "    .dataframe tbody tr th:only-of-type {\n",
       "        vertical-align: middle;\n",
       "    }\n",
       "\n",
       "    .dataframe tbody tr th {\n",
       "        vertical-align: top;\n",
       "    }\n",
       "\n",
       "    .dataframe thead th {\n",
       "        text-align: right;\n",
       "    }\n",
       "</style>\n",
       "<table border=\"1\" class=\"dataframe\">\n",
       "  <thead>\n",
       "    <tr style=\"text-align: right;\">\n",
       "      <th></th>\n",
       "      <th>pg_index</th>\n",
       "      <th>sentence</th>\n",
       "    </tr>\n",
       "  </thead>\n",
       "  <tbody>\n",
       "    <tr>\n",
       "      <th>0</th>\n",
       "      <td>0</td>\n",
       "      <td>ShoʻrvaShoʻrva — suyuq ovqat turi. Tayyorlash ...</td>\n",
       "    </tr>\n",
       "    <tr>\n",
       "      <th>1</th>\n",
       "      <td>12</td>\n",
       "      <td>Shoʻrlangan tuproqlarShoʻrlangan tuproqlar - t...</td>\n",
       "    </tr>\n",
       "    <tr>\n",
       "      <th>2</th>\n",
       "      <td>20</td>\n",
       "      <td>ShoʻrlanishShoʻrlanish, tuproq shoʻrlanishi — ...</td>\n",
       "    </tr>\n",
       "    <tr>\n",
       "      <th>3</th>\n",
       "      <td>62</td>\n",
       "      <td>Shoʻroi islomiya\"SHOʻROI ISLOMIYA\" (\"Islom ken...</td>\n",
       "    </tr>\n",
       "    <tr>\n",
       "      <th>4</th>\n",
       "      <td>102</td>\n",
       "      <td>Shoʻrtan gaz-kimyo majmuasiShoʻrtan gaz-kimyo ...</td>\n",
       "    </tr>\n",
       "    <tr>\n",
       "      <th>...</th>\n",
       "      <td>...</td>\n",
       "      <td>...</td>\n",
       "    </tr>\n",
       "    <tr>\n",
       "      <th>12635</th>\n",
       "      <td>437305</td>\n",
       "      <td>BjörkBjörk (toʻliq ismi — \"Björk Guðmundsdótti...</td>\n",
       "    </tr>\n",
       "    <tr>\n",
       "      <th>12636</th>\n",
       "      <td>437308</td>\n",
       "      <td>YozYoz toʻrt fasldan biridir. Yoz fasli bahor ...</td>\n",
       "    </tr>\n",
       "    <tr>\n",
       "      <th>12637</th>\n",
       "      <td>437889</td>\n",
       "      <td>№ 5-Maksim Gorkiy nomli umumiy oʻrta maktab№ 5...</td>\n",
       "    </tr>\n",
       "    <tr>\n",
       "      <th>12638</th>\n",
       "      <td>439612</td>\n",
       "      <td>Bayanavul (tuman)Bayanavul tumani — Pavlodar v...</td>\n",
       "    </tr>\n",
       "    <tr>\n",
       "      <th>12639</th>\n",
       "      <td>439613</td>\n",
       "      <td>Viete formulalariViete formulalari () — koʻpha...</td>\n",
       "    </tr>\n",
       "  </tbody>\n",
       "</table>\n",
       "<p>12640 rows × 2 columns</p>\n",
       "</div>"
      ],
      "text/plain": [
       "       pg_index                                           sentence\n",
       "0             0  ShoʻrvaShoʻrva — suyuq ovqat turi. Tayyorlash ...\n",
       "1            12  Shoʻrlangan tuproqlarShoʻrlangan tuproqlar - t...\n",
       "2            20  ShoʻrlanishShoʻrlanish, tuproq shoʻrlanishi — ...\n",
       "3            62  Shoʻroi islomiya\"SHOʻROI ISLOMIYA\" (\"Islom ken...\n",
       "4           102  Shoʻrtan gaz-kimyo majmuasiShoʻrtan gaz-kimyo ...\n",
       "...         ...                                                ...\n",
       "12635    437305  BjörkBjörk (toʻliq ismi — \"Björk Guðmundsdótti...\n",
       "12636    437308  YozYoz toʻrt fasldan biridir. Yoz fasli bahor ...\n",
       "12637    437889  № 5-Maksim Gorkiy nomli umumiy oʻrta maktab№ 5...\n",
       "12638    439612  Bayanavul (tuman)Bayanavul tumani — Pavlodar v...\n",
       "12639    439613  Viete formulalariViete formulalari () — koʻpha...\n",
       "\n",
       "[12640 rows x 2 columns]"
      ]
     },
     "execution_count": 10,
     "metadata": {},
     "output_type": "execute_result"
    }
   ],
   "source": [
    "df_grouped_texts"
   ]
  },
  {
   "cell_type": "markdown",
   "metadata": {},
   "source": [
    "# Clean Texts"
   ]
  },
  {
   "cell_type": "code",
   "execution_count": 11,
   "metadata": {},
   "outputs": [],
   "source": [
    "def _split_upper(word: str) -> list:\n",
    "    upper_word_list = re.split(\"(?=[A-Z])\", word)\n",
    "    if upper_word_list[0] == \"\":\n",
    "        return upper_word_list[1:]\n",
    "    return upper_word_list\n",
    "\n",
    "def _check_word_len(word: str, min_len: int = 3, max_len: int = 30) -> bool:\n",
    "    if len(word) >= min_len and len(word) <= max_len:\n",
    "        return word\n",
    "    return None\n",
    "\n",
    "def _delete_apostrof(word: str) -> str:\n",
    "    apostrofs = [\"'\", \"ʻ\", \"ʼ\"]\n",
    "    if word in apostrofs:\n",
    "        return \"\"\n",
    "    if word[0] in apostrofs:\n",
    "        word = word[1:]\n",
    "    if word[-1] in apostrofs:\n",
    "        word = word[:-1]\n",
    "    return word\n",
    "\n",
    "def _check_stop_words(word: str, stop_words: list) -> str:\n",
    "    if word in stop_words:\n",
    "        return \"\"\n",
    "    return word\n",
    "\n",
    "def _clean_pipline(words_list: np.ndarray) -> pd.Series:\n",
    "    words_list = pd.Series(words_list)\n",
    "    words_list = words_list.apply(_delete_apostrof)\n",
    "    words_list = words_list.apply(lambda word: word.lower())\n",
    "    words_list = words_list.apply(lambda word: _check_stop_words(word, stop_words)).dropna()\n",
    "    words_list = words_list.apply(lambda word: FSMStemmer().stem(words=word)[0])\n",
    "    words_list = words_list.apply(_check_word_len).dropna().reset_index(drop=True)\n",
    "    words_list = words_list.apply(lambda word: _check_stop_words(word, stop_words)).dropna()\n",
    "    return words_list\n",
    "\n",
    "def clean_text(text: str, stop_words: list) -> str:\n",
    "    apostrofs = [\"'\", \"ʻ\", \"ʼ\"]\n",
    "    splited_text = re.findall(r\"[A-Za-z 'ʻʼ]+\", text)\n",
    "    words_list = np.array([], dtype=object)\n",
    "    for sentence in splited_text:\n",
    "        sentence_word_list = sentence.split()\n",
    "        for word in sentence_word_list:\n",
    "            splited_word_list = _split_upper(word)\n",
    "            words_list = np.append(words_list, splited_word_list)\n",
    "    clean_words = _clean_pipline(words_list)\n",
    "    return ' '.join(clean_words.values)"
   ]
  },
  {
   "cell_type": "code",
   "execution_count": 12,
   "metadata": {},
   "outputs": [],
   "source": [
    "lambda_ = lambda text: clean_text(text, stop_words)\n",
    "df_grouped_texts['clean_text'] = df_grouped_texts.loc[:, 'sentence'].apply(lambda_)\n",
    "df_grouped_texts = df_grouped_texts.dropna()"
   ]
  },
  {
   "cell_type": "code",
   "execution_count": 13,
   "metadata": {},
   "outputs": [
    {
     "data": {
      "text/html": [
       "<div>\n",
       "<style scoped>\n",
       "    .dataframe tbody tr th:only-of-type {\n",
       "        vertical-align: middle;\n",
       "    }\n",
       "\n",
       "    .dataframe tbody tr th {\n",
       "        vertical-align: top;\n",
       "    }\n",
       "\n",
       "    .dataframe thead th {\n",
       "        text-align: right;\n",
       "    }\n",
       "</style>\n",
       "<table border=\"1\" class=\"dataframe\">\n",
       "  <thead>\n",
       "    <tr style=\"text-align: right;\">\n",
       "      <th></th>\n",
       "      <th>pg_index</th>\n",
       "      <th>sentence</th>\n",
       "      <th>clean_text</th>\n",
       "    </tr>\n",
       "  </thead>\n",
       "  <tbody>\n",
       "    <tr>\n",
       "      <th>0</th>\n",
       "      <td>0</td>\n",
       "      <td>ShoʻrvaShoʻrva — suyuq ovqat turi. Tayyorlash ...</td>\n",
       "      <td>shoʻrva shoʻrva suyuq ovqat tur tayyorlash usu...</td>\n",
       "    </tr>\n",
       "    <tr>\n",
       "      <th>1</th>\n",
       "      <td>12</td>\n",
       "      <td>Shoʻrlangan tuproqlarShoʻrlangan tuproqlar - t...</td>\n",
       "      <td>shoʻrlangan tuproq shoʻrlangan tuproq tarkib s...</td>\n",
       "    </tr>\n",
       "    <tr>\n",
       "      <th>2</th>\n",
       "      <td>20</td>\n",
       "      <td>ShoʻrlanishShoʻrlanish, tuproq shoʻrlanishi — ...</td>\n",
       "      <td>shoʻrlanish shoʻrlanish tuproq shoʻrlanish suv...</td>\n",
       "    </tr>\n",
       "    <tr>\n",
       "      <th>3</th>\n",
       "      <td>62</td>\n",
       "      <td>Shoʻroi islomiya\"SHOʻROI ISLOMIYA\" (\"Islom ken...</td>\n",
       "      <td>shoʻro islomiya islo kengash turkiston taraqqi...</td>\n",
       "    </tr>\n",
       "    <tr>\n",
       "      <th>4</th>\n",
       "      <td>102</td>\n",
       "      <td>Shoʻrtan gaz-kimyo majmuasiShoʻrtan gaz-kimyo ...</td>\n",
       "      <td>shoʻrtan gaz kimyo majmua shoʻrtan gaz kimyo m...</td>\n",
       "    </tr>\n",
       "    <tr>\n",
       "      <th>...</th>\n",
       "      <td>...</td>\n",
       "      <td>...</td>\n",
       "      <td>...</td>\n",
       "    </tr>\n",
       "    <tr>\n",
       "      <th>12635</th>\n",
       "      <td>437305</td>\n",
       "      <td>BjörkBjörk (toʻliq ismi — \"Björk Guðmundsdótti...</td>\n",
       "      <td>toʻliq mundsd ttir talaffuz byork gudmundsdott...</td>\n",
       "    </tr>\n",
       "    <tr>\n",
       "      <th>12636</th>\n",
       "      <td>437308</td>\n",
       "      <td>YozYoz toʻrt fasldan biridir. Yoz fasli bahor ...</td>\n",
       "      <td>yoz yoz toʻrt fasl  yoz fasl bahor kuz fasl jo...</td>\n",
       "    </tr>\n",
       "    <tr>\n",
       "      <th>12637</th>\n",
       "      <td>437889</td>\n",
       "      <td>№ 5-Maksim Gorkiy nomli umumiy oʻrta maktab№ 5...</td>\n",
       "      <td>maks gorkiy noml umumiy oʻrta maktab maks gork...</td>\n",
       "    </tr>\n",
       "    <tr>\n",
       "      <th>12638</th>\n",
       "      <td>439612</td>\n",
       "      <td>Bayanavul (tuman)Bayanavul tumani — Pavlodar v...</td>\n",
       "      <td>bayanavul tuman bayanavul tuma pavlodar viloya...</td>\n",
       "    </tr>\n",
       "    <tr>\n",
       "      <th>12639</th>\n",
       "      <td>439613</td>\n",
       "      <td>Viete formulalariViete formulalari () — koʻpha...</td>\n",
       "      <td>viete formula viete formula koʻphad koeffitsiy...</td>\n",
       "    </tr>\n",
       "  </tbody>\n",
       "</table>\n",
       "<p>12640 rows × 3 columns</p>\n",
       "</div>"
      ],
      "text/plain": [
       "       pg_index                                           sentence  \\\n",
       "0             0  ShoʻrvaShoʻrva — suyuq ovqat turi. Tayyorlash ...   \n",
       "1            12  Shoʻrlangan tuproqlarShoʻrlangan tuproqlar - t...   \n",
       "2            20  ShoʻrlanishShoʻrlanish, tuproq shoʻrlanishi — ...   \n",
       "3            62  Shoʻroi islomiya\"SHOʻROI ISLOMIYA\" (\"Islom ken...   \n",
       "4           102  Shoʻrtan gaz-kimyo majmuasiShoʻrtan gaz-kimyo ...   \n",
       "...         ...                                                ...   \n",
       "12635    437305  BjörkBjörk (toʻliq ismi — \"Björk Guðmundsdótti...   \n",
       "12636    437308  YozYoz toʻrt fasldan biridir. Yoz fasli bahor ...   \n",
       "12637    437889  № 5-Maksim Gorkiy nomli umumiy oʻrta maktab№ 5...   \n",
       "12638    439612  Bayanavul (tuman)Bayanavul tumani — Pavlodar v...   \n",
       "12639    439613  Viete formulalariViete formulalari () — koʻpha...   \n",
       "\n",
       "                                              clean_text  \n",
       "0      shoʻrva shoʻrva suyuq ovqat tur tayyorlash usu...  \n",
       "1      shoʻrlangan tuproq shoʻrlangan tuproq tarkib s...  \n",
       "2      shoʻrlanish shoʻrlanish tuproq shoʻrlanish suv...  \n",
       "3      shoʻro islomiya islo kengash turkiston taraqqi...  \n",
       "4      shoʻrtan gaz kimyo majmua shoʻrtan gaz kimyo m...  \n",
       "...                                                  ...  \n",
       "12635  toʻliq mundsd ttir talaffuz byork gudmundsdott...  \n",
       "12636  yoz yoz toʻrt fasl  yoz fasl bahor kuz fasl jo...  \n",
       "12637  maks gorkiy noml umumiy oʻrta maktab maks gork...  \n",
       "12638  bayanavul tuman bayanavul tuma pavlodar viloya...  \n",
       "12639  viete formula viete formula koʻphad koeffitsiy...  \n",
       "\n",
       "[12640 rows x 3 columns]"
      ]
     },
     "execution_count": 13,
     "metadata": {},
     "output_type": "execute_result"
    }
   ],
   "source": [
    "df_grouped_texts"
   ]
  },
  {
   "cell_type": "code",
   "execution_count": 14,
   "metadata": {},
   "outputs": [],
   "source": [
    "df_uz_corpus = df_grouped_texts[['pg_index', 'clean_text']]"
   ]
  },
  {
   "cell_type": "markdown",
   "metadata": {},
   "source": [
    "Let's do the same again. After cleaning the texts, the number of words could decrease"
   ]
  },
  {
   "cell_type": "code",
   "execution_count": 15,
   "metadata": {},
   "outputs": [
    {
     "data": {
      "text/html": [
       "<div>\n",
       "<style scoped>\n",
       "    .dataframe tbody tr th:only-of-type {\n",
       "        vertical-align: middle;\n",
       "    }\n",
       "\n",
       "    .dataframe tbody tr th {\n",
       "        vertical-align: top;\n",
       "    }\n",
       "\n",
       "    .dataframe thead th {\n",
       "        text-align: right;\n",
       "    }\n",
       "</style>\n",
       "<table border=\"1\" class=\"dataframe\">\n",
       "  <thead>\n",
       "    <tr style=\"text-align: right;\">\n",
       "      <th></th>\n",
       "      <th>text_shape</th>\n",
       "      <th>pages_amount</th>\n",
       "    </tr>\n",
       "  </thead>\n",
       "  <tbody>\n",
       "    <tr>\n",
       "      <th>0</th>\n",
       "      <td>100</td>\n",
       "      <td>12555</td>\n",
       "    </tr>\n",
       "    <tr>\n",
       "      <th>1</th>\n",
       "      <td>130</td>\n",
       "      <td>10409</td>\n",
       "    </tr>\n",
       "    <tr>\n",
       "      <th>2</th>\n",
       "      <td>150</td>\n",
       "      <td>8512</td>\n",
       "    </tr>\n",
       "    <tr>\n",
       "      <th>3</th>\n",
       "      <td>300</td>\n",
       "      <td>3091</td>\n",
       "    </tr>\n",
       "    <tr>\n",
       "      <th>4</th>\n",
       "      <td>500</td>\n",
       "      <td>1367</td>\n",
       "    </tr>\n",
       "    <tr>\n",
       "      <th>5</th>\n",
       "      <td>1000</td>\n",
       "      <td>504</td>\n",
       "    </tr>\n",
       "  </tbody>\n",
       "</table>\n",
       "</div>"
      ],
      "text/plain": [
       "  text_shape pages_amount\n",
       "0        100        12555\n",
       "1        130        10409\n",
       "2        150         8512\n",
       "3        300         3091\n",
       "4        500         1367\n",
       "5       1000          504"
      ]
     },
     "execution_count": 15,
     "metadata": {},
     "output_type": "execute_result"
    }
   ],
   "source": [
    "create_textshape_data(df_uz_corpus, [100, 130, 150, 300, 500, 1000], 'clean_text')"
   ]
  },
  {
   "cell_type": "code",
   "execution_count": 16,
   "metadata": {},
   "outputs": [],
   "source": [
    "lambda_ = lambda text: len(text.split()) > 130\n",
    "df_uz_corpus = df_uz_corpus[df_uz_corpus['clean_text'].apply(lambda_)].reset_index(drop=True)"
   ]
  },
  {
   "cell_type": "code",
   "execution_count": 17,
   "metadata": {},
   "outputs": [
    {
     "data": {
      "text/html": [
       "<div>\n",
       "<style scoped>\n",
       "    .dataframe tbody tr th:only-of-type {\n",
       "        vertical-align: middle;\n",
       "    }\n",
       "\n",
       "    .dataframe tbody tr th {\n",
       "        vertical-align: top;\n",
       "    }\n",
       "\n",
       "    .dataframe thead th {\n",
       "        text-align: right;\n",
       "    }\n",
       "</style>\n",
       "<table border=\"1\" class=\"dataframe\">\n",
       "  <thead>\n",
       "    <tr style=\"text-align: right;\">\n",
       "      <th></th>\n",
       "      <th>pg_index</th>\n",
       "      <th>clean_text</th>\n",
       "    </tr>\n",
       "  </thead>\n",
       "  <tbody>\n",
       "    <tr>\n",
       "      <th>0</th>\n",
       "      <td>12</td>\n",
       "      <td>shoʻrlangan tuproq shoʻrlangan tuproq tarkib s...</td>\n",
       "    </tr>\n",
       "    <tr>\n",
       "      <th>1</th>\n",
       "      <td>20</td>\n",
       "      <td>shoʻrlanish shoʻrlanish tuproq shoʻrlanish suv...</td>\n",
       "    </tr>\n",
       "    <tr>\n",
       "      <th>2</th>\n",
       "      <td>62</td>\n",
       "      <td>shoʻro islomiya islo kengash turkiston taraqqi...</td>\n",
       "    </tr>\n",
       "    <tr>\n",
       "      <th>3</th>\n",
       "      <td>102</td>\n",
       "      <td>shoʻrtan gaz kimyo majmua shoʻrtan gaz kimyo m...</td>\n",
       "    </tr>\n",
       "    <tr>\n",
       "      <th>4</th>\n",
       "      <td>114</td>\n",
       "      <td>shoʻrtepa neft gaz shoʻrtepa neft gaz qashqada...</td>\n",
       "    </tr>\n",
       "    <tr>\n",
       "      <th>...</th>\n",
       "      <td>...</td>\n",
       "      <td>...</td>\n",
       "    </tr>\n",
       "    <tr>\n",
       "      <th>10404</th>\n",
       "      <td>437284</td>\n",
       "      <td>favvora favvora biror manba suv biror tushib i...</td>\n",
       "    </tr>\n",
       "    <tr>\n",
       "      <th>10405</th>\n",
       "      <td>437305</td>\n",
       "      <td>toʻliq mundsd ttir talaffuz byork gudmundsdott...</td>\n",
       "    </tr>\n",
       "    <tr>\n",
       "      <th>10406</th>\n",
       "      <td>437889</td>\n",
       "      <td>maks gorkiy noml umumiy oʻrta maktab maks gork...</td>\n",
       "    </tr>\n",
       "    <tr>\n",
       "      <th>10407</th>\n",
       "      <td>439612</td>\n",
       "      <td>bayanavul tuman bayanavul tuma pavlodar viloya...</td>\n",
       "    </tr>\n",
       "    <tr>\n",
       "      <th>10408</th>\n",
       "      <td>439613</td>\n",
       "      <td>viete formula viete formula koʻphad koeffitsiy...</td>\n",
       "    </tr>\n",
       "  </tbody>\n",
       "</table>\n",
       "<p>10409 rows × 2 columns</p>\n",
       "</div>"
      ],
      "text/plain": [
       "       pg_index                                         clean_text\n",
       "0            12  shoʻrlangan tuproq shoʻrlangan tuproq tarkib s...\n",
       "1            20  shoʻrlanish shoʻrlanish tuproq shoʻrlanish suv...\n",
       "2            62  shoʻro islomiya islo kengash turkiston taraqqi...\n",
       "3           102  shoʻrtan gaz kimyo majmua shoʻrtan gaz kimyo m...\n",
       "4           114  shoʻrtepa neft gaz shoʻrtepa neft gaz qashqada...\n",
       "...         ...                                                ...\n",
       "10404    437284  favvora favvora biror manba suv biror tushib i...\n",
       "10405    437305  toʻliq mundsd ttir talaffuz byork gudmundsdott...\n",
       "10406    437889  maks gorkiy noml umumiy oʻrta maktab maks gork...\n",
       "10407    439612  bayanavul tuman bayanavul tuma pavlodar viloya...\n",
       "10408    439613  viete formula viete formula koʻphad koeffitsiy...\n",
       "\n",
       "[10409 rows x 2 columns]"
      ]
     },
     "execution_count": 17,
     "metadata": {},
     "output_type": "execute_result"
    }
   ],
   "source": [
    "df_uz_corpus"
   ]
  },
  {
   "cell_type": "code",
   "execution_count": 18,
   "metadata": {},
   "outputs": [],
   "source": [
    "df_uz_corpus.to_csv(\"UzCleanCorpus.csv\", index=False)"
   ]
  },
  {
   "cell_type": "code",
   "execution_count": null,
   "metadata": {},
   "outputs": [],
   "source": []
  }
 ],
 "metadata": {
  "colab": {
   "authorship_tag": "ABX9TyPP2anUoDkp0WgymSGEnT5a",
   "collapsed_sections": [
    "EvKLls3Ol-vr",
    "EYYLljVTmbym"
   ],
   "mount_file_id": "16k9tBMciW7usx9adm1fkWPtKUFoG-jcy",
   "name": "ReadWiki.ipynb",
   "provenance": []
  },
  "kernelspec": {
   "display_name": "Python 3 (ipykernel)",
   "language": "python",
   "name": "python3"
  },
  "language_info": {
   "codemirror_mode": {
    "name": "ipython",
    "version": 3
   },
   "file_extension": ".py",
   "mimetype": "text/x-python",
   "name": "python",
   "nbconvert_exporter": "python",
   "pygments_lexer": "ipython3",
   "version": "3.9.7"
  }
 },
 "nbformat": 4,
 "nbformat_minor": 1
}
